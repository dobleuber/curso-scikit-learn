{
 "cells": [
  {
   "cell_type": "code",
   "execution_count": 1,
   "metadata": {
    "collapsed": true
   },
   "outputs": [],
   "source": [
    "import pandas as pd\n",
    "import numpy as np\n",
    "\n",
    "from sklearn.tree import DecisionTreeRegressor\n",
    "\n",
    "from sklearn.model_selection import (\n",
    "    cross_val_score, KFold\n",
    ")\n",
    "\n",
    "from sklearn.metrics import mean_squared_error"
   ]
  },
  {
   "cell_type": "code",
   "execution_count": 2,
   "outputs": [
    {
     "data": {
      "text/plain": "       country  rank  score      high       low       gdp    family    lifexp  \\\n0       Norway     1  7.537  7.594445  7.479556  1.616463  1.533524  0.796667   \n1      Denmark     2  7.522  7.581728  7.462272  1.482383  1.551122  0.792566   \n2      Iceland     3  7.504  7.622030  7.385970  1.480633  1.610574  0.833552   \n3  Switzerland     4  7.494  7.561772  7.426227  1.564980  1.516912  0.858131   \n4      Finland     5  7.469  7.527542  7.410458  1.443572  1.540247  0.809158   \n\n    freedom  generosity  corruption  dystopia  \n0  0.635423    0.362012    0.315964  2.277027  \n1  0.626007    0.355280    0.400770  2.313707  \n2  0.627163    0.475540    0.153527  2.322715  \n3  0.620071    0.290549    0.367007  2.276716  \n4  0.617951    0.245483    0.382612  2.430182  ",
      "text/html": "<div>\n<style scoped>\n    .dataframe tbody tr th:only-of-type {\n        vertical-align: middle;\n    }\n\n    .dataframe tbody tr th {\n        vertical-align: top;\n    }\n\n    .dataframe thead th {\n        text-align: right;\n    }\n</style>\n<table border=\"1\" class=\"dataframe\">\n  <thead>\n    <tr style=\"text-align: right;\">\n      <th></th>\n      <th>country</th>\n      <th>rank</th>\n      <th>score</th>\n      <th>high</th>\n      <th>low</th>\n      <th>gdp</th>\n      <th>family</th>\n      <th>lifexp</th>\n      <th>freedom</th>\n      <th>generosity</th>\n      <th>corruption</th>\n      <th>dystopia</th>\n    </tr>\n  </thead>\n  <tbody>\n    <tr>\n      <th>0</th>\n      <td>Norway</td>\n      <td>1</td>\n      <td>7.537</td>\n      <td>7.594445</td>\n      <td>7.479556</td>\n      <td>1.616463</td>\n      <td>1.533524</td>\n      <td>0.796667</td>\n      <td>0.635423</td>\n      <td>0.362012</td>\n      <td>0.315964</td>\n      <td>2.277027</td>\n    </tr>\n    <tr>\n      <th>1</th>\n      <td>Denmark</td>\n      <td>2</td>\n      <td>7.522</td>\n      <td>7.581728</td>\n      <td>7.462272</td>\n      <td>1.482383</td>\n      <td>1.551122</td>\n      <td>0.792566</td>\n      <td>0.626007</td>\n      <td>0.355280</td>\n      <td>0.400770</td>\n      <td>2.313707</td>\n    </tr>\n    <tr>\n      <th>2</th>\n      <td>Iceland</td>\n      <td>3</td>\n      <td>7.504</td>\n      <td>7.622030</td>\n      <td>7.385970</td>\n      <td>1.480633</td>\n      <td>1.610574</td>\n      <td>0.833552</td>\n      <td>0.627163</td>\n      <td>0.475540</td>\n      <td>0.153527</td>\n      <td>2.322715</td>\n    </tr>\n    <tr>\n      <th>3</th>\n      <td>Switzerland</td>\n      <td>4</td>\n      <td>7.494</td>\n      <td>7.561772</td>\n      <td>7.426227</td>\n      <td>1.564980</td>\n      <td>1.516912</td>\n      <td>0.858131</td>\n      <td>0.620071</td>\n      <td>0.290549</td>\n      <td>0.367007</td>\n      <td>2.276716</td>\n    </tr>\n    <tr>\n      <th>4</th>\n      <td>Finland</td>\n      <td>5</td>\n      <td>7.469</td>\n      <td>7.527542</td>\n      <td>7.410458</td>\n      <td>1.443572</td>\n      <td>1.540247</td>\n      <td>0.809158</td>\n      <td>0.617951</td>\n      <td>0.245483</td>\n      <td>0.382612</td>\n      <td>2.430182</td>\n    </tr>\n  </tbody>\n</table>\n</div>"
     },
     "execution_count": 2,
     "metadata": {},
     "output_type": "execute_result"
    }
   ],
   "source": [
    "dataset = pd.read_csv('../data/felicidad.csv')\n",
    "dataset.head()"
   ],
   "metadata": {
    "collapsed": false,
    "pycharm": {
     "name": "#%%\n"
    }
   }
  },
  {
   "cell_type": "code",
   "execution_count": 3,
   "outputs": [
    {
     "data": {
      "text/plain": "array([-0.41705464, -0.07657033, -0.05714638, -0.07730962, -0.41102156])"
     },
     "execution_count": 3,
     "metadata": {},
     "output_type": "execute_result"
    }
   ],
   "source": [
    "X = dataset.drop(['country', 'score'], axis=1)\n",
    "y = dataset.score\n",
    "\n",
    "model = DecisionTreeRegressor()\n",
    "\n",
    "score = cross_val_score(model, X, y, scoring='neg_mean_squared_error', cv=5)\n",
    "\n",
    "score"
   ],
   "metadata": {
    "collapsed": false,
    "pycharm": {
     "name": "#%%\n"
    }
   }
  },
  {
   "cell_type": "code",
   "execution_count": 4,
   "outputs": [
    {
     "data": {
      "text/plain": "0.20782050655724174"
     },
     "execution_count": 4,
     "metadata": {},
     "output_type": "execute_result"
    }
   ],
   "source": [
    "np.abs(np.mean(score))"
   ],
   "metadata": {
    "collapsed": false,
    "pycharm": {
     "name": "#%%\n"
    }
   }
  },
  {
   "cell_type": "code",
   "execution_count": 8,
   "outputs": [
    {
     "name": "stdout",
     "output_type": "stream",
     "text": [
      "[  0   1   3   4   5   6   7   8  10  13  14  17  18  19  20  21  23  24\n",
      "  25  26  27  28  29  31  32  33  34  35  36  37  38  39  40  42  43  44\n",
      "  45  46  47  48  49  50  51  53  54  55  57  58  59  60  62  64  66  67\n",
      "  68  69  70  71  72  74  75  76  77  78  79  80  81  82  84  85  86  87\n",
      "  89  90  91  92  94  95  96  97  98  99 101 102 103 104 105 106 107 108\n",
      " 109 111 112 113 114 116 117 120 121 122 123 124 125 127 128 129 130 131\n",
      " 132 133 135 136 139 140 142 144 145 148 149 150 151 152 153 154] [  2   9  11  12  15  16  22  30  41  52  56  61  63  65  73  83  88  93\n",
      " 100 110 115 118 119 126 134 137 138 141 143 146 147]\n",
      "[  1   2   3   4   5   7   8   9  10  11  12  13  14  15  16  17  18  19\n",
      "  22  23  24  25  27  28  30  31  32  33  34  37  38  39  40  41  43  44\n",
      "  45  47  48  50  52  53  55  56  57  59  61  63  64  65  67  68  70  71\n",
      "  72  73  74  75  76  77  78  79  80  81  82  83  87  88  89  90  91  92\n",
      "  93  94  95  96  97  98  99 100 101 103 104 106 107 109 110 112 113 114\n",
      " 115 117 118 119 120 121 122 123 125 126 127 129 130 132 133 134 135 136\n",
      " 137 138 139 140 141 142 143 144 146 147 148 149 150 151 152 153] [  0   6  20  21  26  29  35  36  42  46  49  51  54  58  60  62  66  69\n",
      "  84  85  86 102 105 108 111 116 124 128 131 145 154]\n",
      "[  0   1   2   3   5   6   7   8   9  10  11  12  13  14  15  16  19  20\n",
      "  21  22  23  24  25  26  27  29  30  32  34  35  36  37  40  41  42  44\n",
      "  45  46  49  50  51  52  53  54  55  56  57  58  59  60  61  62  63  64\n",
      "  65  66  67  68  69  70  71  72  73  74  76  78  79  80  81  82  83  84\n",
      "  85  86  87  88  89  91  92  93  95  96  99 100 102 105 107 108 109 110\n",
      " 111 112 114 115 116 117 118 119 121 124 125 126 127 128 129 130 131 132\n",
      " 133 134 136 137 138 141 142 143 145 146 147 148 151 152 153 154] [  4  17  18  28  31  33  38  39  43  47  48  75  77  90  94  97  98 101\n",
      " 103 104 106 113 120 122 123 135 139 140 144 149 150]\n",
      "[  0   2   4   6   9  11  12  13  15  16  17  18  20  21  22  23  24  26\n",
      "  27  28  29  30  31  33  34  35  36  37  38  39  41  42  43  45  46  47\n",
      "  48  49  51  52  54  56  58  60  61  62  63  65  66  67  69  70  71  73\n",
      "  74  75  76  77  79  80  81  82  83  84  85  86  88  89  90  91  92  93\n",
      "  94  96  97  98 100 101 102 103 104 105 106 107 108 109 110 111 113 114\n",
      " 115 116 118 119 120 122 123 124 125 126 128 129 131 132 133 134 135 137\n",
      " 138 139 140 141 142 143 144 145 146 147 149 150 151 152 153 154] [  1   3   5   7   8  10  14  19  25  32  40  44  50  53  55  57  59  64\n",
      "  68  72  78  87  95  99 112 117 121 127 130 136 148]\n",
      "[  0   1   2   3   4   5   6   7   8   9  10  11  12  14  15  16  17  18\n",
      "  19  20  21  22  25  26  28  29  30  31  32  33  35  36  38  39  40  41\n",
      "  42  43  44  46  47  48  49  50  51  52  53  54  55  56  57  58  59  60\n",
      "  61  62  63  64  65  66  68  69  72  73  75  77  78  83  84  85  86  87\n",
      "  88  90  93  94  95  97  98  99 100 101 102 103 104 105 106 108 110 111\n",
      " 112 113 115 116 117 118 119 120 121 122 123 124 126 127 128 130 131 134\n",
      " 135 136 137 138 139 140 141 143 144 145 146 147 148 149 150 154] [ 13  23  24  27  34  37  45  67  70  71  74  76  79  80  81  82  89  91\n",
      "  92  96 107 109 114 125 129 132 133 142 151 152 153]\n"
     ]
    }
   ],
   "source": [
    "kf = KFold(n_splits=5, shuffle=True, random_state=11)\n",
    "for train, test in kf.split(dataset):\n",
    "    print(train, test)"
   ],
   "metadata": {
    "collapsed": false,
    "pycharm": {
     "name": "#%%\n"
    }
   }
  },
  {
   "cell_type": "code",
   "execution_count": null,
   "outputs": [],
   "source": [],
   "metadata": {
    "collapsed": false,
    "pycharm": {
     "name": "#%%\n"
    }
   }
  }
 ],
 "metadata": {
  "kernelspec": {
   "name": "pycharm-dab748b1",
   "language": "python",
   "display_name": "PyCharm (curso-scikit-learn)"
  },
  "language_info": {
   "codemirror_mode": {
    "name": "ipython",
    "version": 2
   },
   "file_extension": ".py",
   "mimetype": "text/x-python",
   "name": "python",
   "nbconvert_exporter": "python",
   "pygments_lexer": "ipython2",
   "version": "2.7.6"
  }
 },
 "nbformat": 4,
 "nbformat_minor": 0
}