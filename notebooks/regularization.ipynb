{
 "cells": [
  {
   "cell_type": "code",
   "execution_count": 7,
   "metadata": {
    "collapsed": true
   },
   "outputs": [],
   "source": [
    "import pandas as pd\n",
    "\n",
    "from sklearn.linear_model import (\n",
    "    Lasso, LinearRegression,\n",
    "    Ridge, ElasticNet\n",
    ")\n",
    "from sklearn.model_selection import train_test_split\n",
    "from sklearn.metrics import mean_squared_error"
   ]
  },
  {
   "cell_type": "code",
   "execution_count": 8,
   "outputs": [
    {
     "data": {
      "text/plain": "       country  rank  score      high       low       gdp    family    lifexp  \\\n0       Norway     1  7.537  7.594445  7.479556  1.616463  1.533524  0.796667   \n1      Denmark     2  7.522  7.581728  7.462272  1.482383  1.551122  0.792566   \n2      Iceland     3  7.504  7.622030  7.385970  1.480633  1.610574  0.833552   \n3  Switzerland     4  7.494  7.561772  7.426227  1.564980  1.516912  0.858131   \n4      Finland     5  7.469  7.527542  7.410458  1.443572  1.540247  0.809158   \n\n    freedom  generosity  corruption  dystopia  \n0  0.635423    0.362012    0.315964  2.277027  \n1  0.626007    0.355280    0.400770  2.313707  \n2  0.627163    0.475540    0.153527  2.322715  \n3  0.620071    0.290549    0.367007  2.276716  \n4  0.617951    0.245483    0.382612  2.430182  ",
      "text/html": "<div>\n<style scoped>\n    .dataframe tbody tr th:only-of-type {\n        vertical-align: middle;\n    }\n\n    .dataframe tbody tr th {\n        vertical-align: top;\n    }\n\n    .dataframe thead th {\n        text-align: right;\n    }\n</style>\n<table border=\"1\" class=\"dataframe\">\n  <thead>\n    <tr style=\"text-align: right;\">\n      <th></th>\n      <th>country</th>\n      <th>rank</th>\n      <th>score</th>\n      <th>high</th>\n      <th>low</th>\n      <th>gdp</th>\n      <th>family</th>\n      <th>lifexp</th>\n      <th>freedom</th>\n      <th>generosity</th>\n      <th>corruption</th>\n      <th>dystopia</th>\n    </tr>\n  </thead>\n  <tbody>\n    <tr>\n      <th>0</th>\n      <td>Norway</td>\n      <td>1</td>\n      <td>7.537</td>\n      <td>7.594445</td>\n      <td>7.479556</td>\n      <td>1.616463</td>\n      <td>1.533524</td>\n      <td>0.796667</td>\n      <td>0.635423</td>\n      <td>0.362012</td>\n      <td>0.315964</td>\n      <td>2.277027</td>\n    </tr>\n    <tr>\n      <th>1</th>\n      <td>Denmark</td>\n      <td>2</td>\n      <td>7.522</td>\n      <td>7.581728</td>\n      <td>7.462272</td>\n      <td>1.482383</td>\n      <td>1.551122</td>\n      <td>0.792566</td>\n      <td>0.626007</td>\n      <td>0.355280</td>\n      <td>0.400770</td>\n      <td>2.313707</td>\n    </tr>\n    <tr>\n      <th>2</th>\n      <td>Iceland</td>\n      <td>3</td>\n      <td>7.504</td>\n      <td>7.622030</td>\n      <td>7.385970</td>\n      <td>1.480633</td>\n      <td>1.610574</td>\n      <td>0.833552</td>\n      <td>0.627163</td>\n      <td>0.475540</td>\n      <td>0.153527</td>\n      <td>2.322715</td>\n    </tr>\n    <tr>\n      <th>3</th>\n      <td>Switzerland</td>\n      <td>4</td>\n      <td>7.494</td>\n      <td>7.561772</td>\n      <td>7.426227</td>\n      <td>1.564980</td>\n      <td>1.516912</td>\n      <td>0.858131</td>\n      <td>0.620071</td>\n      <td>0.290549</td>\n      <td>0.367007</td>\n      <td>2.276716</td>\n    </tr>\n    <tr>\n      <th>4</th>\n      <td>Finland</td>\n      <td>5</td>\n      <td>7.469</td>\n      <td>7.527542</td>\n      <td>7.410458</td>\n      <td>1.443572</td>\n      <td>1.540247</td>\n      <td>0.809158</td>\n      <td>0.617951</td>\n      <td>0.245483</td>\n      <td>0.382612</td>\n      <td>2.430182</td>\n    </tr>\n  </tbody>\n</table>\n</div>"
     },
     "execution_count": 8,
     "metadata": {},
     "output_type": "execute_result"
    }
   ],
   "source": [
    "dataset = pd.read_csv('../data/felicidad.csv')\n",
    "dataset.head()"
   ],
   "metadata": {
    "collapsed": false,
    "pycharm": {
     "name": "#%%\n"
    }
   }
  },
  {
   "cell_type": "code",
   "execution_count": 9,
   "outputs": [
    {
     "data": {
      "text/plain": "                      country  rank  score      high       low       gdp  \\\n150                    Rwanda   151  3.471  3.543030  3.398970  0.368746   \n151                     Syria   152  3.462  3.663669  3.260331  0.777153   \n152                  Tanzania   153  3.349  3.461430  3.236570  0.511136   \n153                   Burundi   154  2.905  3.074690  2.735310  0.091623   \n154  Central African Republic   155  2.693  2.864884  2.521116  0.000000   \n\n       family    lifexp   freedom  generosity  corruption  dystopia  \n150  0.945707  0.326425  0.581844    0.252756    0.455220  0.540061  \n151  0.396103  0.500533  0.081539    0.493664    0.151347  1.061574  \n152  1.041990  0.364509  0.390018    0.354256    0.066035  0.621130  \n153  0.629794  0.151611  0.059901    0.204435    0.084148  1.683024  \n154  0.000000  0.018773  0.270842    0.280876    0.056565  2.066005  ",
      "text/html": "<div>\n<style scoped>\n    .dataframe tbody tr th:only-of-type {\n        vertical-align: middle;\n    }\n\n    .dataframe tbody tr th {\n        vertical-align: top;\n    }\n\n    .dataframe thead th {\n        text-align: right;\n    }\n</style>\n<table border=\"1\" class=\"dataframe\">\n  <thead>\n    <tr style=\"text-align: right;\">\n      <th></th>\n      <th>country</th>\n      <th>rank</th>\n      <th>score</th>\n      <th>high</th>\n      <th>low</th>\n      <th>gdp</th>\n      <th>family</th>\n      <th>lifexp</th>\n      <th>freedom</th>\n      <th>generosity</th>\n      <th>corruption</th>\n      <th>dystopia</th>\n    </tr>\n  </thead>\n  <tbody>\n    <tr>\n      <th>150</th>\n      <td>Rwanda</td>\n      <td>151</td>\n      <td>3.471</td>\n      <td>3.543030</td>\n      <td>3.398970</td>\n      <td>0.368746</td>\n      <td>0.945707</td>\n      <td>0.326425</td>\n      <td>0.581844</td>\n      <td>0.252756</td>\n      <td>0.455220</td>\n      <td>0.540061</td>\n    </tr>\n    <tr>\n      <th>151</th>\n      <td>Syria</td>\n      <td>152</td>\n      <td>3.462</td>\n      <td>3.663669</td>\n      <td>3.260331</td>\n      <td>0.777153</td>\n      <td>0.396103</td>\n      <td>0.500533</td>\n      <td>0.081539</td>\n      <td>0.493664</td>\n      <td>0.151347</td>\n      <td>1.061574</td>\n    </tr>\n    <tr>\n      <th>152</th>\n      <td>Tanzania</td>\n      <td>153</td>\n      <td>3.349</td>\n      <td>3.461430</td>\n      <td>3.236570</td>\n      <td>0.511136</td>\n      <td>1.041990</td>\n      <td>0.364509</td>\n      <td>0.390018</td>\n      <td>0.354256</td>\n      <td>0.066035</td>\n      <td>0.621130</td>\n    </tr>\n    <tr>\n      <th>153</th>\n      <td>Burundi</td>\n      <td>154</td>\n      <td>2.905</td>\n      <td>3.074690</td>\n      <td>2.735310</td>\n      <td>0.091623</td>\n      <td>0.629794</td>\n      <td>0.151611</td>\n      <td>0.059901</td>\n      <td>0.204435</td>\n      <td>0.084148</td>\n      <td>1.683024</td>\n    </tr>\n    <tr>\n      <th>154</th>\n      <td>Central African Republic</td>\n      <td>155</td>\n      <td>2.693</td>\n      <td>2.864884</td>\n      <td>2.521116</td>\n      <td>0.000000</td>\n      <td>0.000000</td>\n      <td>0.018773</td>\n      <td>0.270842</td>\n      <td>0.280876</td>\n      <td>0.056565</td>\n      <td>2.066005</td>\n    </tr>\n  </tbody>\n</table>\n</div>"
     },
     "execution_count": 9,
     "metadata": {},
     "output_type": "execute_result"
    }
   ],
   "source": [
    "dataset.tail()"
   ],
   "metadata": {
    "collapsed": false,
    "pycharm": {
     "name": "#%%\n"
    }
   }
  },
  {
   "cell_type": "code",
   "execution_count": 10,
   "outputs": [
    {
     "data": {
      "text/plain": "((155, 7), (155,))"
     },
     "execution_count": 10,
     "metadata": {},
     "output_type": "execute_result"
    }
   ],
   "source": [
    "X = dataset[['gdp', 'family', 'lifexp', 'freedom', 'corruption', 'generosity', 'dystopia']]\n",
    "y = dataset.score\n",
    "\n",
    "X.shape, y.shape"
   ],
   "metadata": {
    "collapsed": false,
    "pycharm": {
     "name": "#%%\n"
    }
   }
  },
  {
   "cell_type": "code",
   "execution_count": 11,
   "outputs": [
    {
     "name": "stderr",
     "output_type": "stream",
     "text": [
      "<ipython-input-11-5c61905ea588>:12: UserWarning: With alpha=0, this algorithm does not converge well. You are advised to use the LinearRegression estimator\n",
      "  modelElasticNet = ElasticNet(alpha=0.0, random_state=0).fit(X_train, y_train)\n",
      "/home/dobleuber/.local/lib/python3.8/site-packages/sklearn/linear_model/_coordinate_descent.py:529: UserWarning: Coordinate descent with no regularization may lead to unexpected results and is discouraged.\n",
      "  model = cd_fast.enet_coordinate_descent(\n"
     ]
    },
    {
     "data": {
      "text/plain": "(8.380039953892478e-08,\n 0.8337525208285885,\n 0.005401733288215521,\n 8.269196716427087e-08)"
     },
     "execution_count": 11,
     "metadata": {},
     "output_type": "execute_result"
    }
   ],
   "source": [
    "X_train, X_test, y_train, y_test = train_test_split(X, y, random_state=11)\n",
    "\n",
    "modelLinear = LinearRegression().fit(X_train, y_train)\n",
    "y_predict_linear = modelLinear.predict(X_test)\n",
    "\n",
    "modelLasso = Lasso(alpha=0.2).fit(X_train, y_train)\n",
    "y_predict_lasso = modelLasso.predict(X_test)\n",
    "\n",
    "modelRidge = Ridge().fit(X_train, y_train)\n",
    "y_predict_ridge = modelRidge.predict(X_test)\n",
    "\n",
    "modelElasticNet = ElasticNet(alpha=0.0, random_state=0).fit(X_train, y_train)\n",
    "y_predict_elastic_net = modelElasticNet.predict(X_test)\n",
    "\n",
    "linear_loss = mean_squared_error(y_test, y_predict_linear)\n",
    "lasso_loss = mean_squared_error(y_test, y_predict_lasso)\n",
    "ridge_loss = mean_squared_error(y_test, y_predict_ridge)\n",
    "elastic_net_loss = mean_squared_error(y_test, y_predict_elastic_net)\n",
    "\n",
    "\n",
    "linear_loss, lasso_loss, ridge_loss, elastic_net_loss"
   ],
   "metadata": {
    "collapsed": false,
    "pycharm": {
     "name": "#%%\n"
    }
   }
  },
  {
   "cell_type": "code",
   "execution_count": 12,
   "outputs": [
    {
     "data": {
      "text/plain": "('coefs lasso',\n array([0.85466184, 0.        , 0.        , 0.        , 0.        ,\n        0.        , 0.1603893 ]),\n 'coefs ridge',\n array([1.06981434, 0.95707902, 0.84685806, 0.92520465, 0.6569659 ,\n        0.75371294, 0.95289244]),\n 'coefs elastic net',\n array([1.00016853, 0.99991946, 0.99974962, 1.00017854, 0.99967748,\n        1.00006741, 0.9998593 ]))"
     },
     "execution_count": 12,
     "metadata": {},
     "output_type": "execute_result"
    }
   ],
   "source": [
    "('coefs lasso', modelLasso.coef_, 'coefs ridge', modelRidge.coef_, 'coefs elastic net', modelElasticNet.coef_)"
   ],
   "metadata": {
    "collapsed": false,
    "pycharm": {
     "name": "#%%\n"
    }
   }
  },
  {
   "cell_type": "code",
   "execution_count": 12,
   "outputs": [],
   "source": [],
   "metadata": {
    "collapsed": false,
    "pycharm": {
     "name": "#%%\n"
    }
   }
  }
 ],
 "metadata": {
  "kernelspec": {
   "name": "pycharm-dab748b1",
   "language": "python",
   "display_name": "PyCharm (curso-scikit-learn)"
  },
  "language_info": {
   "codemirror_mode": {
    "name": "ipython",
    "version": 2
   },
   "file_extension": ".py",
   "mimetype": "text/x-python",
   "name": "python",
   "nbconvert_exporter": "python",
   "pygments_lexer": "ipython2",
   "version": "2.7.6"
  }
 },
 "nbformat": 4,
 "nbformat_minor": 0
}